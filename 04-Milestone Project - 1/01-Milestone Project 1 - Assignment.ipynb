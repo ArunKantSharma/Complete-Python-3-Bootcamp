{
 "cells": [
  {
   "cell_type": "markdown",
   "metadata": {},
   "source": [
    "# Milestone Project 1\n",
    "## Congratulations on making it to your first milestone!\n",
    "You've already learned a ton and are ready to work on a real project.\n",
    "\n",
    "Your assignment: Create a Tic Tac Toe game. You are free to use any IDE you like.\n",
    "\n",
    "Here are the requirements:\n",
    "\n",
    "* 2 players should be able to play the game (both sitting at the same computer)\n",
    "* The board should be printed out every time a player makes a move\n",
    "* You should be able to accept input of the player position and then place a symbol on the board\n",
    "\n",
    "Feel free to use Google to help you figure anything out (but don't just Google \"Tic Tac Toe in Python\" otherwise you won't learn anything!) Keep in mind that this project can take anywhere between several hours to several days.\n",
    "\n",
    "There are 4 Jupyter Notebooks related to this assignment:\n",
    "\n",
    "* This Assignment Notebook\n",
    "* A \"Walkthrough Steps Workbook\" Notebook\n",
    "* A \"Complete Walkthrough Solution\" Notebook\n",
    "* An \"Advanced Solution\" Notebook\n",
    "\n",
    "I encourage you to just try to start the project on your own without referencing any of the notebooks. If you get stuck, check out the next lecture which is a text lecture with helpful hints and steps. If you're still stuck after that, then check out the Walkthrough Steps Workbook, which breaks up the project in steps for you to solve. Still stuck? Then check out the Complete Walkthrough Solution video for more help on approaching the project!"
   ]
  },
  {
   "cell_type": "markdown",
   "metadata": {},
   "source": [
    "There are parts of this that will be a struggle...and that is good! I have complete faith that if you have made it this far through the course you have all the tools and knowledge to tackle this project. Remember, it's totally open book, so take your time, do a little research, and remember:\n",
    "\n",
    "## HAVE FUN!"
   ]
  },
  {
   "cell_type": "code",
   "execution_count": null,
   "metadata": {},
   "outputs": [],
   "source": [
    "from IPython.display import clear_output\n",
    "\n",
    "def is_winner(player):\n",
    "    for key , value in player.items():\n",
    "        print (key)\n",
    "        print (value)\n",
    "        print('inside loop')\n",
    "        if 1 in value and 2 in value and 3 in value :\n",
    "            return (key,True)\n",
    "        elif 4 in value and 5 in value and 6 in value :\n",
    "            return (key,True)\n",
    "        elif 7 in value and 8 in value and 9 in value :\n",
    "            return (key,True)\n",
    "        elif 1 in value and 4 in value and 7 in value :\n",
    "            return (key,True)\n",
    "        elif 2 in value and 5 in value and 8 in value :\n",
    "            return (key,True)\n",
    "        elif 3 in value and 6 in value and 9 in value :\n",
    "            return (key,True)\n",
    "        elif 3 in value and 5 in value and 7 in value :\n",
    "            return (key,True)\n",
    "        elif 1 in value and 5 in value and 9 in value :\n",
    "            return (key,True)\n",
    "    return (key,False)\n"
   ]
  },
  {
   "cell_type": "code",
   "execution_count": null,
   "metadata": {},
   "outputs": [],
   "source": [
    "a =is_winner({'Player1':[1,2,3]})\n",
    "\n",
    "a[1]"
   ]
  },
  {
   "cell_type": "code",
   "execution_count": null,
   "metadata": {},
   "outputs": [],
   "source": [
    "def printScreen( pos):\n",
    "    clear_output()\n",
    "    X = ' | '\n",
    "    Y = '--'\n",
    "    blank = ' '\n",
    "    display_pos = [' '] * 9\n",
    "    for key , value in pos.items():\n",
    "        if len(value) > 0:\n",
    "            for  n in value:\n",
    "                if key == 'X' :\n",
    "                    display_pos[n-1] = 'X'\n",
    "                else:\n",
    "                    display_pos[n-1] = 'O'\n",
    "    print (display_pos[6] + X + display_pos[7] + X + display_pos[8] )\n",
    "    print(Y*6)\n",
    "    print (display_pos[3] + X + display_pos[4] + X + display_pos[5] )\n",
    "    print(Y*6)\n",
    "    print (display_pos[0] + X + display_pos[1] + X + display_pos[2] )"
   ]
  },
  {
   "cell_type": "code",
   "execution_count": null,
   "metadata": {},
   "outputs": [],
   "source": [
    "def ticTacToe_markerSelection():\n",
    "    while True:\n",
    "        player1= input(\"please Pick a marker 'X' or 'O' \").upper()\n",
    "        if player1 in ['X','O']:\n",
    "            if player1 == 'X':\n",
    "                player2 = 'O'\n",
    "            else:\n",
    "                player2 = 'X'\n",
    "            break\n",
    "        else :\n",
    "            continue\n",
    "    print('Player1 selected Marker {}'.format(player1))\n",
    "    print ('So Player2 Marker is {}'.format(player2))\n",
    "    return ('Player1' , player1)\n"
   ]
  },
  {
   "cell_type": "code",
   "execution_count": null,
   "metadata": {},
   "outputs": [],
   "source": [
    "def validPosition(notSelPos,player):\n",
    "    while True:\n",
    "        pos = int(input('Insert new position for {} \\t'.format(player)))\n",
    "        if pos not in notSelPos:\n",
    "            continue\n",
    "        else:\n",
    "            return pos"
   ]
  },
  {
   "cell_type": "code",
   "execution_count": 198,
   "metadata": {},
   "outputs": [],
   "source": [
    "def ticTacToe_position():\n",
    "    notSelPos = [1,2,3,4,5,6,7,8,9]\n",
    "    player1_pos = []\n",
    "    player2_pos = []\n",
    "    player = 'Player1'\n",
    "    gameEnd =False\n",
    "\n",
    "    player1 = ticTacToe_markerSelection()[1]\n",
    "    \n",
    "    print_list = {}\n",
    "    #pos_1={'O': [], 'X':[]}\n",
    "    #print(pos)\n",
    "    #printScreen(pos)\n",
    "    \n",
    "    while not gameEnd :\n",
    "        winner_check={}\n",
    "        winner_check['Player1']= player1_pos\n",
    "        winner_check['Player2']= player2_pos\n",
    "        if is_winner(winner_check)[1] ==True:\n",
    "            print(' congratulation {} is winner !!! '.format(is_winner(winner_check)[0]))\n",
    "            break\n",
    "        else:\n",
    "            print('Player 1')\n",
    "            print(player1_pos)\n",
    "            print('Player 2')\n",
    "            print(player2_pos)\n",
    "        ##print(\"Nothing   \")\n",
    "        if len(notSelPos) > 0 :\n",
    "            if player == 'Player1':\n",
    "                pos = validPosition(notSelPos, player)\n",
    "                notSelPos.remove(pos)\n",
    "                player1_pos.append(pos)\n",
    "                player = 'Player2'\n",
    "            else:\n",
    "                pos = validPosition(notSelPos, player)\n",
    "                notSelPos.remove(pos)\n",
    "                player2_pos.append(pos)\n",
    "                player = 'Player1'  \n",
    "            if player1 =='X':\n",
    "                print_list['X'] = player1_pos\n",
    "                print_list['O'] =player2_pos\n",
    "            else:\n",
    "                print_list['O'] = player1_pos\n",
    "                print_list['X'] =player2_pos\n",
    "            printScreen(print_list)\n",
    "        elif len(notSelPos) == 0:\n",
    "            print ('OOPS!!! No one Win!!!')\n",
    "            break"
   ]
  },
  {
   "cell_type": "code",
   "execution_count": null,
   "metadata": {},
   "outputs": [],
   "source": [
    "ticTacToe_position()\n"
   ]
  }
 ],
 "metadata": {
  "kernelspec": {
   "display_name": "Python 3",
   "language": "python",
   "name": "python3"
  },
  "language_info": {
   "codemirror_mode": {
    "name": "ipython",
    "version": 3
   },
   "file_extension": ".py",
   "mimetype": "text/x-python",
   "name": "python",
   "nbconvert_exporter": "python",
   "pygments_lexer": "ipython3",
   "version": "3.6.5"
  }
 },
 "nbformat": 4,
 "nbformat_minor": 2
}
